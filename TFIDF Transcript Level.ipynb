{
  "nbformat": 4,
  "nbformat_minor": 0,
  "metadata": {
    "colab": {
      "name": "Baseline",
      "provenance": [],
      "collapsed_sections": []
    },
    "kernelspec": {
      "name": "python3",
      "display_name": "Python 3"
    }
  },
  "cells": [
    {
      "cell_type": "code",
      "metadata": {
        "id": "RZebTiNumKj_",
        "colab_type": "code",
        "colab": {}
      },
      "source": [
        "import numpy as np\n",
        "import pandas as pd\n",
        "\n",
        "from tqdm import tqdm\n",
        "pd.options.mode.chained_assignment = None"
      ],
      "execution_count": 0,
      "outputs": []
    },
    {
      "cell_type": "code",
      "metadata": {
        "id": "90nqGJthZnZq",
        "colab_type": "code",
        "outputId": "63787f4b-a10f-4d63-d8ed-e7f5503da27b",
        "colab": {
          "base_uri": "https://localhost:8080/",
          "height": 251
        }
      },
      "source": [
        "df = pd.read_csv('/content/drive/My Drive/alldata.csv')\n",
        "df.info()"
      ],
      "execution_count": 81,
      "outputs": [
        {
          "output_type": "stream",
          "text": [
            "<class 'pandas.core.frame.DataFrame'>\n",
            "RangeIndex: 103624 entries, 0 to 103623\n",
            "Data columns (total 7 columns):\n",
            " #   Column        Non-Null Count   Dtype  \n",
            "---  ------        --------------   -----  \n",
            " 0   Unnamed: 0    103624 non-null  int64  \n",
            " 1   corpus_index  103624 non-null  int64  \n",
            " 2   date          103624 non-null  object \n",
            " 3   direction     103624 non-null  object \n",
            " 4   ex_return     101996 non-null  float64\n",
            " 5   ticker        103624 non-null  object \n",
            " 6   whole         103624 non-null  object \n",
            "dtypes: float64(1), int64(2), object(4)\n",
            "memory usage: 5.5+ MB\n"
          ],
          "name": "stdout"
        }
      ]
    },
    {
      "cell_type": "code",
      "metadata": {
        "id": "ItWL69xiZBbU",
        "colab_type": "code",
        "outputId": "d79d34c1-4da8-477a-fa3f-62975c0c7867",
        "colab": {
          "base_uri": "https://localhost:8080/",
          "height": 196
        }
      },
      "source": [
        "# preprocessing data: change format\n",
        "\n",
        "\n",
        "\n",
        "df = df.dropna()\n",
        "df['date'] = pd.to_datetime(df.date)\n",
        "\n",
        "df['dir'] = df['direction'].apply(lambda x: 1 if x == 'up' else -1)\n",
        "df = df.reset_index()\n",
        "df.head()"
      ],
      "execution_count": 82,
      "outputs": [
        {
          "output_type": "execute_result",
          "data": {
            "text/html": [
              "<div>\n",
              "<style scoped>\n",
              "    .dataframe tbody tr th:only-of-type {\n",
              "        vertical-align: middle;\n",
              "    }\n",
              "\n",
              "    .dataframe tbody tr th {\n",
              "        vertical-align: top;\n",
              "    }\n",
              "\n",
              "    .dataframe thead th {\n",
              "        text-align: right;\n",
              "    }\n",
              "</style>\n",
              "<table border=\"1\" class=\"dataframe\">\n",
              "  <thead>\n",
              "    <tr style=\"text-align: right;\">\n",
              "      <th></th>\n",
              "      <th>index</th>\n",
              "      <th>Unnamed: 0</th>\n",
              "      <th>corpus_index</th>\n",
              "      <th>date</th>\n",
              "      <th>direction</th>\n",
              "      <th>ex_return</th>\n",
              "      <th>ticker</th>\n",
              "      <th>whole</th>\n",
              "      <th>dir</th>\n",
              "    </tr>\n",
              "  </thead>\n",
              "  <tbody>\n",
              "    <tr>\n",
              "      <th>0</th>\n",
              "      <td>0</td>\n",
              "      <td>62740</td>\n",
              "      <td>16</td>\n",
              "      <td>2001-01-25</td>\n",
              "      <td>down</td>\n",
              "      <td>-5.80473</td>\n",
              "      <td>LLY</td>\n",
              "      <td>on that managed short term symptoms are then b...</td>\n",
              "      <td>-1</td>\n",
              "    </tr>\n",
              "    <tr>\n",
              "      <th>1</th>\n",
              "      <td>1</td>\n",
              "      <td>62737</td>\n",
              "      <td>13</td>\n",
              "      <td>2001-01-25</td>\n",
              "      <td>down</td>\n",
              "      <td>-5.80473</td>\n",
              "      <td>LLY</td>\n",
              "      <td>is from Steve Tie's line from Merrill Lynch. P...</td>\n",
              "      <td>-1</td>\n",
              "    </tr>\n",
              "    <tr>\n",
              "      <th>2</th>\n",
              "      <td>2</td>\n",
              "      <td>62730</td>\n",
              "      <td>6</td>\n",
              "      <td>2001-01-25</td>\n",
              "      <td>down</td>\n",
              "      <td>-5.80473</td>\n",
              "      <td>LLY</td>\n",
              "      <td>6%. Excluding the effect of exchange rates, an...</td>\n",
              "      <td>-1</td>\n",
              "    </tr>\n",
              "    <tr>\n",
              "      <th>3</th>\n",
              "      <td>3</td>\n",
              "      <td>62739</td>\n",
              "      <td>15</td>\n",
              "      <td>2001-01-25</td>\n",
              "      <td>down</td>\n",
              "      <td>-5.80473</td>\n",
              "      <td>LLY</td>\n",
              "      <td>year when we will be losing execution of the m...</td>\n",
              "      <td>-1</td>\n",
              "    </tr>\n",
              "    <tr>\n",
              "      <th>4</th>\n",
              "      <td>4</td>\n",
              "      <td>62729</td>\n",
              "      <td>5</td>\n",
              "      <td>2001-01-25</td>\n",
              "      <td>down</td>\n",
              "      <td>-5.80473</td>\n",
              "      <td>LLY</td>\n",
              "      <td>last year totalling $419 million. The decline ...</td>\n",
              "      <td>-1</td>\n",
              "    </tr>\n",
              "  </tbody>\n",
              "</table>\n",
              "</div>"
            ],
            "text/plain": [
              "   index  Unnamed: 0  ...                                              whole dir\n",
              "0      0       62740  ...  on that managed short term symptoms are then b...  -1\n",
              "1      1       62737  ...  is from Steve Tie's line from Merrill Lynch. P...  -1\n",
              "2      2       62730  ...  6%. Excluding the effect of exchange rates, an...  -1\n",
              "3      3       62739  ...  year when we will be losing execution of the m...  -1\n",
              "4      4       62729  ...  last year totalling $419 million. The decline ...  -1\n",
              "\n",
              "[5 rows x 9 columns]"
            ]
          },
          "metadata": {
            "tags": []
          },
          "execution_count": 82
        }
      ]
    },
    {
      "cell_type": "code",
      "metadata": {
        "id": "j4GQBoku8keV",
        "colab_type": "code",
        "outputId": "98aca7a9-f8af-4b12-f145-1514ec755f99",
        "colab": {
          "base_uri": "https://localhost:8080/",
          "height": 434
        }
      },
      "source": [
        "df.groupby(['date', 'ticker']).first()"
      ],
      "execution_count": 83,
      "outputs": [
        {
          "output_type": "execute_result",
          "data": {
            "text/html": [
              "<div>\n",
              "<style scoped>\n",
              "    .dataframe tbody tr th:only-of-type {\n",
              "        vertical-align: middle;\n",
              "    }\n",
              "\n",
              "    .dataframe tbody tr th {\n",
              "        vertical-align: top;\n",
              "    }\n",
              "\n",
              "    .dataframe thead th {\n",
              "        text-align: right;\n",
              "    }\n",
              "</style>\n",
              "<table border=\"1\" class=\"dataframe\">\n",
              "  <thead>\n",
              "    <tr style=\"text-align: right;\">\n",
              "      <th></th>\n",
              "      <th></th>\n",
              "      <th>index</th>\n",
              "      <th>Unnamed: 0</th>\n",
              "      <th>corpus_index</th>\n",
              "      <th>direction</th>\n",
              "      <th>ex_return</th>\n",
              "      <th>whole</th>\n",
              "      <th>dir</th>\n",
              "    </tr>\n",
              "    <tr>\n",
              "      <th>date</th>\n",
              "      <th>ticker</th>\n",
              "      <th></th>\n",
              "      <th></th>\n",
              "      <th></th>\n",
              "      <th></th>\n",
              "      <th></th>\n",
              "      <th></th>\n",
              "      <th></th>\n",
              "    </tr>\n",
              "  </thead>\n",
              "  <tbody>\n",
              "    <tr>\n",
              "      <th>2001-01-25</th>\n",
              "      <th>LLY</th>\n",
              "      <td>0</td>\n",
              "      <td>62740</td>\n",
              "      <td>16</td>\n",
              "      <td>down</td>\n",
              "      <td>-5.804730</td>\n",
              "      <td>on that managed short term symptoms are then b...</td>\n",
              "      <td>-1</td>\n",
              "    </tr>\n",
              "    <tr>\n",
              "      <th>2001-03-19</th>\n",
              "      <th>PAYX</th>\n",
              "      <td>17</td>\n",
              "      <td>80229</td>\n",
              "      <td>9</td>\n",
              "      <td>up</td>\n",
              "      <td>2.379739</td>\n",
              "      <td>a short period of time, but over time, you're ...</td>\n",
              "      <td>1</td>\n",
              "    </tr>\n",
              "    <tr>\n",
              "      <th>2001-04-03</th>\n",
              "      <th>BBY</th>\n",
              "      <td>32</td>\n",
              "      <td>13919</td>\n",
              "      <td>22</td>\n",
              "      <td>up</td>\n",
              "      <td>3.539244</td>\n",
              "      <td>a modest selection of consumer electronics. So...</td>\n",
              "      <td>1</td>\n",
              "    </tr>\n",
              "    <tr>\n",
              "      <th>2001-04-04</th>\n",
              "      <th>THC</th>\n",
              "      <td>55</td>\n",
              "      <td>100259</td>\n",
              "      <td>16</td>\n",
              "      <td>down</td>\n",
              "      <td>-0.898221</td>\n",
              "      <td>but we keep coming back to the demographics, a...</td>\n",
              "      <td>-1</td>\n",
              "    </tr>\n",
              "    <tr>\n",
              "      <th>2001-04-11</th>\n",
              "      <th>HOG</th>\n",
              "      <td>76</td>\n",
              "      <td>50069</td>\n",
              "      <td>13</td>\n",
              "      <td>up</td>\n",
              "      <td>0.650465</td>\n",
              "      <td>quarter and that's just a time issue that went...</td>\n",
              "      <td>1</td>\n",
              "    </tr>\n",
              "    <tr>\n",
              "      <th>...</th>\n",
              "      <th>...</th>\n",
              "      <td>...</td>\n",
              "      <td>...</td>\n",
              "      <td>...</td>\n",
              "      <td>...</td>\n",
              "      <td>...</td>\n",
              "      <td>...</td>\n",
              "      <td>...</td>\n",
              "    </tr>\n",
              "    <tr>\n",
              "      <th rowspan=\"4\" valign=\"top\">2005-12-22</th>\n",
              "      <th>GIS</th>\n",
              "      <td>103502</td>\n",
              "      <td>45911</td>\n",
              "      <td>13</td>\n",
              "      <td>up</td>\n",
              "      <td>1.705193</td>\n",
              "      <td>General Mills, Inc. - EVP, CFO   [50]  Thank ...</td>\n",
              "      <td>1</td>\n",
              "    </tr>\n",
              "    <tr>\n",
              "      <th>PAYX</th>\n",
              "      <td>103532</td>\n",
              "      <td>80689</td>\n",
              "      <td>2</td>\n",
              "      <td>down</td>\n",
              "      <td>-2.484627</td>\n",
              "      <td>workers' compensation insurance risk. And were...</td>\n",
              "      <td>-1</td>\n",
              "    </tr>\n",
              "    <tr>\n",
              "      <th>SLR</th>\n",
              "      <td>103509</td>\n",
              "      <td>93443</td>\n",
              "      <td>4</td>\n",
              "      <td>up</td>\n",
              "      <td>0.215506</td>\n",
              "      <td>of 2%, and representing 18% of total revenue. ...</td>\n",
              "      <td>1</td>\n",
              "    </tr>\n",
              "    <tr>\n",
              "      <th>TMO</th>\n",
              "      <td>103523</td>\n",
              "      <td>101980</td>\n",
              "      <td>0</td>\n",
              "      <td>down</td>\n",
              "      <td>-4.708141</td>\n",
              "      <td>Operator   [1]  Good morning, ladies and gentl...</td>\n",
              "      <td>-1</td>\n",
              "    </tr>\n",
              "    <tr>\n",
              "      <th>2005-12-28</th>\n",
              "      <th>CELG</th>\n",
              "      <td>103614</td>\n",
              "      <td>20895</td>\n",
              "      <td>9</td>\n",
              "      <td>up</td>\n",
              "      <td>2.586075</td>\n",
              "      <td>A question on the myeloma sNDA that will be go...</td>\n",
              "      <td>1</td>\n",
              "    </tr>\n",
              "  </tbody>\n",
              "</table>\n",
              "<p>6081 rows × 7 columns</p>\n",
              "</div>"
            ],
            "text/plain": [
              "                    index  ...  dir\n",
              "date       ticker          ...     \n",
              "2001-01-25 LLY          0  ...   -1\n",
              "2001-03-19 PAYX        17  ...    1\n",
              "2001-04-03 BBY         32  ...    1\n",
              "2001-04-04 THC         55  ...   -1\n",
              "2001-04-11 HOG         76  ...    1\n",
              "...                   ...  ...  ...\n",
              "2005-12-22 GIS     103502  ...    1\n",
              "           PAYX    103532  ...   -1\n",
              "           SLR     103509  ...    1\n",
              "           TMO     103523  ...   -1\n",
              "2005-12-28 CELG    103614  ...    1\n",
              "\n",
              "[6081 rows x 7 columns]"
            ]
          },
          "metadata": {
            "tags": []
          },
          "execution_count": 83
        }
      ]
    },
    {
      "cell_type": "code",
      "metadata": {
        "id": "65fLm-VOnGcM",
        "colab_type": "code",
        "colab": {}
      },
      "source": [
        "# train test split\n",
        "\n",
        "val_size = int(df.shape[0] * 0.15)\n",
        "test_size = int(df.shape[0] * 0.15)\n",
        "train_size = int(df.shape[0] * 0.7)\n",
        "\n",
        "train_ticker, train_date, train_corp, train_texts, train_ret, train_dir = df.ticker[:train_size], df.date[:train_size], df.corpus_index[:train_size], df.whole[:train_size], df.ex_return[:train_size], df.dir[:train_size]\n",
        "val_ticker, val_date, val_corp, val_texts, val_ret, val_dir = df.ticker[train_size:train_size+val_size], df.date[train_size:train_size+val_size], df.corpus_index[train_size:train_size+val_size], df.whole[train_size:train_size+val_size], df.ex_return[train_size:train_size+val_size], df.dir[train_size:train_size+val_size]\n",
        "test_ticker, test_date, test_corp, test_texts, test_ret, test_dir = df.ticker[train_size+val_size:], df.date[train_size+val_size:], df.corpus_index[train_size+val_size:], df.whole[train_size+val_size:], df.ex_return[train_size+val_size:], df.dir[train_size+val_size:]"
      ],
      "execution_count": 0,
      "outputs": []
    },
    {
      "cell_type": "code",
      "metadata": {
        "id": "HlcuRuismWqf",
        "colab_type": "code",
        "colab": {}
      },
      "source": [
        "# preprocess data: vectorize it\n",
        "\n",
        "\n",
        "from sklearn.feature_extraction.text import TfidfVectorizer\n",
        "from nltk.corpus import stopwords\n",
        "\n",
        "def tfidf(data, max_features):\n",
        "    import nltk\n",
        "    try: \n",
        "      stop_words = stopwords.words('english')\n",
        "    except:\n",
        "      nltk.download('stopwords')\n",
        "      stop_words = stopwords.words('english')\n",
        "\n",
        "    tfidf = TfidfVectorizer(stop_words = stop_words, max_features = max_features)\n",
        "    model = tfidf.fit(data)\n",
        "\n",
        "    return model\n"
      ],
      "execution_count": 0,
      "outputs": []
    },
    {
      "cell_type": "code",
      "metadata": {
        "id": "H14DCLGsmwCW",
        "colab_type": "code",
        "colab": {}
      },
      "source": [
        ""
      ],
      "execution_count": 0,
      "outputs": []
    },
    {
      "cell_type": "code",
      "metadata": {
        "id": "44Mba8zD5cJw",
        "colab_type": "code",
        "colab": {}
      },
      "source": [
        "def accuracy_score(y_true, y_pred): \n",
        "\n",
        "    # Calculate accuracy of the model's prediction\n",
        "    \"\"\"\n",
        "    YOUR CODE GOES HERE\n",
        "    \"\"\"\n",
        "    true = 0\n",
        "    total = int(len(y_true))\n",
        "    for i in range(len(y_true)):\n",
        "      if y_true[i] == y_pred[i]:\n",
        "        true += 1\n",
        "    \n",
        "    accuracy = float(true)/float(total)\n",
        "    return accuracy\n",
        "\n",
        "def f1_score(y_true, y_pred): \n",
        "    tp=0\n",
        "    fp=0\n",
        "    tn=0\n",
        "    fn=0\n",
        "    for i in range(0,len(y_true)):\n",
        "      if(y_true[i]==1 and y_pred[i]==1):\n",
        "        tp+=1\n",
        "      elif(y_true[i]==-1 and y_pred[i]==1):\n",
        "        fp+=1\n",
        "      elif(y_true[i]==-1 and y_pred[i]==-1):\n",
        "        tn+=1\n",
        "      elif(y_true[i]==1 and y_pred[i]==-1):\n",
        "        fn+=1\n",
        "    precision = tp/(tp+fp)\n",
        "    recall = tp/(tp+fn)\n",
        "    f1 = (2*precision*recall) / (precision+recall)\n",
        "    return f1\n",
        "\n",
        "\n",
        "def get_accuracy(y_pred, df, set):\n",
        "\n",
        "  data_set = {'train' : df[:train_size], 'val' : df[train_size:train_size+val_size], 'test' : df[train_size+val_size:]}\n",
        "  df1 = data_set[set]\n",
        "\n",
        "  df1['pred'] = y_pred\n",
        "  agg_pred = df1.groupby(['ticker', 'date']).mean()['pred'].apply(lambda x: 1 if x > 0 else -1).values.tolist()\n",
        "  true_pred = df1.groupby(['ticker', 'date']).first().dir.values.tolist()\n",
        "  acc = accuracy_score(agg_pred, true_pred)\n",
        "  f1 = f1_score(agg_pred, true_pred)\n",
        "  return acc, f1"
      ],
      "execution_count": 0,
      "outputs": []
    },
    {
      "cell_type": "code",
      "metadata": {
        "id": "gp_yoIdwolUq",
        "colab_type": "code",
        "colab": {}
      },
      "source": [
        "# transform data\n",
        "\n",
        "from sklearn.linear_model import LogisticRegression\n",
        "from sklearn.ensemble import RandomForestClassifier\n",
        "from sklearn.naive_bayes import BernoulliNB\n",
        "from sklearn.svm import SVC\n",
        "from sklearn.naive_bayes import ComplementNB\n",
        "\n",
        "def surprise_me(train_texts, val_texts, test_texts, df, max_features, alpha):\n",
        "    vectorizer = tfidf(train_texts, max_features = max_features)\n",
        "    X_train= vectorizer.transform(train_texts)\n",
        "    X_val= vectorizer.transform(val_texts)\n",
        "    X_test= vectorizer.transform(test_texts)\n",
        "\n",
        "\n",
        "    y_train = np.array(train_dir)\n",
        "    y_val = np.array(val_dir)\n",
        "    y_test = np.array(test_dir)\n",
        "\n",
        "\n",
        "    model = ComplementNB(alpha = alpha)\n",
        "\n",
        "    model.fit(X_train, y_train)\n",
        "\n",
        "    # Make prediction using the trained model\n",
        "    y_train_pred = model.predict(X_train)\n",
        "    y_val_pred = model.predict(X_val)\n",
        "    y_test_pred = model.predict(X_test)\n",
        "\n",
        "    train_acc, train_f1 = get_accuracy(y_train_pred, df, 'train')\n",
        "    val_acc, val_f1 = get_accuracy(y_val_pred, df, 'val')\n",
        "    test_acc, test_f1 = get_accuracy(y_test_pred, df, 'test')\n",
        "    \n",
        "    report = pd.DataFrame({'acc': [train_acc,val_acc,test_acc], 'f1':[train_f1, val_f1,test_f1]})\n",
        "    report.index = ['train', 'val', 'test']\n",
        "\n",
        "    print('surprise mf!')\n",
        "    print('classification with Naive Bayes')\n",
        "    return report"
      ],
      "execution_count": 0,
      "outputs": []
    },
    {
      "cell_type": "code",
      "metadata": {
        "id": "sNV8a0946Bne",
        "colab_type": "code",
        "outputId": "6177f7e4-7ee0-43f8-a097-bc16d01142b1",
        "colab": {
          "base_uri": "https://localhost:8080/",
          "height": 170
        }
      },
      "source": [
        "surprise_me(train_texts, val_texts, test_texts, df, 500, 0.01)"
      ],
      "execution_count": 101,
      "outputs": [
        {
          "output_type": "stream",
          "text": [
            "surprise mf!\n",
            "classification with Naive Bayes\n"
          ],
          "name": "stdout"
        },
        {
          "output_type": "execute_result",
          "data": {
            "text/html": [
              "<div>\n",
              "<style scoped>\n",
              "    .dataframe tbody tr th:only-of-type {\n",
              "        vertical-align: middle;\n",
              "    }\n",
              "\n",
              "    .dataframe tbody tr th {\n",
              "        vertical-align: top;\n",
              "    }\n",
              "\n",
              "    .dataframe thead th {\n",
              "        text-align: right;\n",
              "    }\n",
              "</style>\n",
              "<table border=\"1\" class=\"dataframe\">\n",
              "  <thead>\n",
              "    <tr style=\"text-align: right;\">\n",
              "      <th></th>\n",
              "      <th>acc</th>\n",
              "      <th>f1</th>\n",
              "    </tr>\n",
              "  </thead>\n",
              "  <tbody>\n",
              "    <tr>\n",
              "      <th>train</th>\n",
              "      <td>0.567182</td>\n",
              "      <td>0.567285</td>\n",
              "    </tr>\n",
              "    <tr>\n",
              "      <th>val</th>\n",
              "      <td>0.540084</td>\n",
              "      <td>0.433766</td>\n",
              "    </tr>\n",
              "    <tr>\n",
              "      <th>test</th>\n",
              "      <td>0.566806</td>\n",
              "      <td>0.450331</td>\n",
              "    </tr>\n",
              "  </tbody>\n",
              "</table>\n",
              "</div>"
            ],
            "text/plain": [
              "            acc        f1\n",
              "train  0.567182  0.567285\n",
              "val    0.540084  0.433766\n",
              "test   0.566806  0.450331"
            ]
          },
          "metadata": {
            "tags": []
          },
          "execution_count": 101
        }
      ]
    },
    {
      "cell_type": "code",
      "metadata": {
        "id": "RejmOAVJIUJU",
        "colab_type": "code",
        "colab": {}
      },
      "source": [
        "import matplotlib.pyplot as plt\n",
        "%matplotlib inline\n",
        "\n",
        "\n",
        "\n",
        "def get_scores(train_texts, val_texts, test_texts, df, max_features_list):\n",
        "    accs = []\n",
        "    f1s = []\n",
        "    for x in tqdm(max_features_list):\n",
        "      for a in alpha_list:\n",
        "        vectorizer = tfidf(train_texts, max_features = max_features)\n",
        "        X_train= vectorizer.transform(train_texts)\n",
        "        X_val= vectorizer.transform(val_texts)\n",
        "\n",
        "\n",
        "        y_train = np.array(train_dir)\n",
        "        y_val = np.array(val_dir)\n",
        "\n",
        "        model = ComplementNB(alpha = a)\n",
        "        model.fit(X_train, y_train)\n",
        "        # Make prediction using the trained model\n",
        "        y_val_pred = model.predict(X_val)\n",
        "        val_acc, val_f1 = get_accuracy(y_val_pred, df, 'val')\n",
        "        accs.append(val_acc)\n",
        "        f1s.append(val_f1)\n",
        "\n",
        "    return accs, f1s\n",
        "\n",
        "def get_top(features, alpha, score):\n",
        "    highest_score = sorted(score, reverse = True)[0]\n",
        "    highest_idx = score.index(highest_score)\n",
        "    max_feature_idx = highest_idx//len(features)\n",
        "    # max_feature_idx = np.floor(float(highest_idx)/float(len(features)))\n",
        "    a_idx = highest_idx % len(features)\n",
        "    return features[max_feature_idx], alpha[a_idx], highest_score\n",
        "    \n",
        "\n",
        "def show_me_max_feature(max_features_list,alpha_list, alpha, accs, f1s):\n",
        "    max_features_big_list = []\n",
        "    alpha_big_list = []\n",
        "\n",
        "    for x in max_features_list:\n",
        "      for a in alpha_list:\n",
        "        max_features_big_list.append(x)\n",
        "        alpha_big_list.append(a)\n",
        "\n",
        "    df = pd.DataFrame({'max_feature': max_features_big_list, 'alpha': alpha_big_list, \n",
        "                       'accs' : accs, 'f1s' : f1s})\n",
        "    data = df[df['alpha'] == alpha].sort_values(by = 'max_feature')\n",
        "    accs = data.accs\n",
        "    f1s = data.f1s\n",
        "    plt.plot(max_features_list, accs,'r--', max_features_list,f1s)\n",
        "    plt.legend(['acc', 'f1'])\n",
        "    plt.xlabel('max_features')\n",
        "    plt.ylabel('scores')\n",
        "    plt.show()\n",
        "    \n",
        "def show_me_alpha(max_feature_list, alpha_list, max_feature, accs, f1s):\n",
        "    max_features_big_list = []\n",
        "    alpha_big_list = []\n",
        "\n",
        "    for x in max_features_list:\n",
        "      for a in alpha_list:\n",
        "        max_features_big_list.append(x)\n",
        "        alpha_big_list.append(a)\n",
        "\n",
        "    df = pd.DataFrame({'max_feature': max_features_big_list, 'alpha_list': alpha_big_list, \n",
        "                       'accs' : accs, 'f1s' : f1s})\n",
        "    data = df[df['max_feature'] == max_feature].sort_values(by = 'alpha_list')\n",
        "\n",
        "    accs = data.accs\n",
        "\n",
        "    f1s = data.f1s\n",
        "    plt.plot(alpha_list, accs,'r--', alpha_list,f1s)\n",
        "    plt.legend(['acc', 'f1'])\n",
        "    plt.xlabel('alpha')\n",
        "    plt.ylabel('scores')\n",
        "    plt.show()\n",
        "\n",
        "    "
      ],
      "execution_count": 0,
      "outputs": []
    },
    {
      "cell_type": "code",
      "metadata": {
        "id": "HtXLIitIKW1n",
        "colab_type": "code",
        "outputId": "dfc39a2f-4a5c-4325-dc12-56cd17c0e865",
        "colab": {
          "base_uri": "https://localhost:8080/",
          "height": 268
        }
      },
      "source": [
        "max_features_list = [500, 1000,1500,2000,2500,3000]\n",
        "alpha_list = [0.01, 0.1, 1]\n",
        "accs, f1s = get_scores(train_texts, val_texts, test_texts, df, max_features_list)\n"
      ],
      "execution_count": 103,
      "outputs": [
        {
          "output_type": "stream",
          "text": [
            "\n",
            "\n",
            "  0%|          | 0/6 [00:00<?, ?it/s]\u001b[A\u001b[A\n",
            "\n",
            " 17%|█▋        | 1/6 [01:53<09:26, 113.31s/it]\u001b[A\u001b[A\n",
            "\n",
            " 33%|███▎      | 2/6 [03:47<07:33, 113.45s/it]\u001b[A\u001b[A\n",
            "\n",
            " 50%|█████     | 3/6 [05:39<05:39, 113.28s/it]\u001b[A\u001b[A\n",
            "\n",
            " 67%|██████▋   | 4/6 [07:34<03:47, 113.63s/it]\u001b[A\u001b[A\n",
            "\n",
            " 83%|████████▎ | 5/6 [09:28<01:53, 113.75s/it]\u001b[A\u001b[A\n",
            "\n",
            "100%|██████████| 6/6 [11:21<00:00, 113.60s/it]\n"
          ],
          "name": "stderr"
        }
      ]
    },
    {
      "cell_type": "code",
      "metadata": {
        "id": "3prB_etP4d9K",
        "colab_type": "code",
        "colab": {}
      },
      "source": [
        ""
      ],
      "execution_count": 0,
      "outputs": []
    },
    {
      "cell_type": "code",
      "metadata": {
        "id": "CTxW6-AByTFh",
        "colab_type": "code",
        "outputId": "ba10f8a3-1cd5-4d47-c814-0026be0a9968",
        "colab": {
          "base_uri": "https://localhost:8080/",
          "height": 313
        }
      },
      "source": [
        "print('(param_acc, top_acc): ', get_top(max_features_list,alpha_list, accs))\n",
        "print('(param_f1, top_f1): ',  get_top(max_features_list,alpha_list, f1s))\n",
        "show_me_max_feature(max_features_list,alpha_list,0.01, accs, f1s)"
      ],
      "execution_count": 104,
      "outputs": [
        {
          "output_type": "stream",
          "text": [
            "(param_acc, top_acc):  (500, 1, 0.5305907172995781)\n",
            "(param_f1, top_f1):  (500, 1, 0.4198174706649283)\n"
          ],
          "name": "stdout"
        },
        {
          "output_type": "display_data",
          "data": {
            "image/png": "[encoded data removed]",
            "text/plain": [
              "<Figure size 432x288 with 1 Axes>"
            ]
          },
          "metadata": {
            "tags": [],
            "needs_background": "light"
          }
        }
      ]
    },
    {
      "cell_type": "code",
      "metadata": {
        "id": "pYOabZS2-F95",
        "colab_type": "code",
        "outputId": "9a859996-c779-472d-e5a2-cb373180bb18",
        "colab": {
          "base_uri": "https://localhost:8080/",
          "height": 278
        }
      },
      "source": [
        "show_me_alpha(max_features_list,alpha_list, 1000, accs, f1s)"
      ],
      "execution_count": 108,
      "outputs": [
        {
          "output_type": "display_data",
          "data": {
            "image/png": "[encoded data removed]",
            "text/plain": [
              "<Figure size 432x288 with 1 Axes>"
            ]
          },
          "metadata": {
            "tags": [],
            "needs_background": "light"
          }
        }
      ]
    },
    {
      "cell_type": "code",
      "metadata": {
        "id": "-Iuz6_YR-gQq",
        "colab_type": "code",
        "colab": {}
      },
      "source": [
        ""
      ],
      "execution_count": 0,
      "outputs": []
    },
    {
      "cell_type": "code",
      "metadata": {
        "id": "gwtC2kqx_PTg",
        "colab_type": "code",
        "colab": {}
      },
      "source": [
        "\n",
        "\n",
        "from sklearn.linear_model import Lasso\n",
        "def better_not_surprise_me(train_texts, val_texts, test_texts, df, max_features, alpha):\n",
        "    vectorizer = tfidf(train_texts, max_features = max_features)\n",
        "    X_train= vectorizer.transform(train_texts)\n",
        "    X_val= vectorizer.transform(val_texts)\n",
        "    X_test= vectorizer.transform(test_texts)\n",
        "\n",
        "    y_train = np.array(train_dir)\n",
        "    y_val = np.array(val_dir)\n",
        "    y_test = np.array(test_dir)\n",
        "\n",
        "\n",
        "    model = Lasso(alpha = alpha)\n",
        "\n",
        "    model.fit(X_train, y_train)\n",
        "\n",
        "    # Make prediction using the trained model\n",
        "    y_train_pred = model.predict(X_train)\n",
        "    y_val_pred = model.predict(X_val)\n",
        "    y_test_pred = model.predict(X_test)\n",
        "\n",
        "    train_acc, train_f1 = get_accuracy(y_train_pred, df, 'train')\n",
        "    val_acc, val_f1 = get_accuracy(y_val_pred, df, 'val')\n",
        "    test_acc, test_f1 = get_accuracy(y_test_pred, df, 'test')\n",
        "    \n",
        "    report = pd.DataFrame({'acc': [train_acc,val_acc,test_acc], 'f1':[train_f1, val_f1,test_f1]})\n",
        "    report.index = ['train', 'val', 'test']\n",
        "\n",
        "    print('surprise mf!')\n",
        "    return report"
      ],
      "execution_count": 0,
      "outputs": []
    },
    {
      "cell_type": "code",
      "metadata": {
        "id": "kQYAsmucUSTH",
        "colab_type": "code",
        "outputId": "4f72ed10-aeb6-448b-c14c-1b7b7db2b99e",
        "colab": {
          "base_uri": "https://localhost:8080/",
          "height": 153
        }
      },
      "source": [
        "better_not_surprise_me(train_texts, val_texts, test_texts, df, 1500, 0.1)"
      ],
      "execution_count": 111,
      "outputs": [
        {
          "output_type": "stream",
          "text": [
            "surprise mf!\n"
          ],
          "name": "stdout"
        },
        {
          "output_type": "execute_result",
          "data": {
            "text/html": [
              "<div>\n",
              "<style scoped>\n",
              "    .dataframe tbody tr th:only-of-type {\n",
              "        vertical-align: middle;\n",
              "    }\n",
              "\n",
              "    .dataframe tbody tr th {\n",
              "        vertical-align: top;\n",
              "    }\n",
              "\n",
              "    .dataframe thead th {\n",
              "        text-align: right;\n",
              "    }\n",
              "</style>\n",
              "<table border=\"1\" class=\"dataframe\">\n",
              "  <thead>\n",
              "    <tr style=\"text-align: right;\">\n",
              "      <th></th>\n",
              "      <th>acc</th>\n",
              "      <th>f1</th>\n",
              "    </tr>\n",
              "  </thead>\n",
              "  <tbody>\n",
              "    <tr>\n",
              "      <th>train</th>\n",
              "      <td>0.533888</td>\n",
              "      <td>0.696124</td>\n",
              "    </tr>\n",
              "    <tr>\n",
              "      <th>val</th>\n",
              "      <td>0.407173</td>\n",
              "      <td>0.578711</td>\n",
              "    </tr>\n",
              "    <tr>\n",
              "      <th>test</th>\n",
              "      <td>0.462422</td>\n",
              "      <td>0.632405</td>\n",
              "    </tr>\n",
              "  </tbody>\n",
              "</table>\n",
              "</div>"
            ],
            "text/plain": [
              "            acc        f1\n",
              "train  0.533888  0.696124\n",
              "val    0.407173  0.578711\n",
              "test   0.462422  0.632405"
            ]
          },
          "metadata": {
            "tags": []
          },
          "execution_count": 111
        }
      ]
    },
    {
      "cell_type": "code",
      "metadata": {
        "id": "EqtqVlPCUWWF",
        "colab_type": "code",
        "colab": {}
      },
      "source": [
        "import matplotlib.pyplot as plt\n",
        "%matplotlib inline\n",
        "\n",
        "\n",
        "\n",
        "def get_scores2(train_texts, val_texts, test_texts, df, max_features_list):\n",
        "    accs = []\n",
        "    f1s = []\n",
        "    for x in tqdm(max_features_list):\n",
        "      for a in alpha_list:\n",
        "        vectorizer = tfidf(train_texts, max_features = max_features)\n",
        "        X_train= vectorizer.transform(train_texts)\n",
        "        X_val= vectorizer.transform(val_texts)\n",
        "\n",
        "\n",
        "\n",
        "        y_train = np.array(train_dir)\n",
        "        y_val = np.array(val_dir)\n",
        "\n",
        "\n",
        "      \n",
        "        model = Lasso(alpha = a)\n",
        "        model.fit(X_train, y_train)\n",
        "        # Make prediction using the trained model\n",
        "        y_val_pred = model.predict(X_val)\n",
        "        val_acc, val_f1 = get_accuracy(y_val_pred, df, 'val')\n",
        "        accs.append(val_acc)\n",
        "        f1s.append(val_f1)\n",
        "\n",
        "    return accs, f1s\n"
      ],
      "execution_count": 0,
      "outputs": []
    },
    {
      "cell_type": "code",
      "metadata": {
        "id": "zDzIxLEeUjxh",
        "colab_type": "code",
        "outputId": "095d2139-a297-419b-e101-7b43d96b06a3",
        "colab": {
          "base_uri": "https://localhost:8080/",
          "height": 531
        }
      },
      "source": [
        "max_features_list = np.linspace(200, 1000, 5, dtype = int)\n",
        "# max_features_list = [100, 1000,1500,2000,2500,3000]\n",
        "alpha_list = [0.01, 0.1, 1]\n",
        "accs2, f1s2 = get_scores2(train_texts, val_texts, test_texts, df, max_features_list)\n"
      ],
      "execution_count": 114,
      "outputs": [
        {
          "output_type": "stream",
          "text": [
            "\n",
            "\n",
            "  0%|          | 0/5 [00:00<?, ?it/s]\u001b[A\u001b[A\n",
            "\n",
            " 20%|██        | 1/5 [01:52<07:31, 112.88s/it]\u001b[A\u001b[A\n",
            "\n",
            " 40%|████      | 2/5 [03:48<05:40, 113.63s/it]\u001b[A\u001b[A\n",
            "\n",
            " 60%|██████    | 3/5 [05:41<03:46, 113.42s/it]\u001b[A\u001b[A\n",
            "\n",
            " 80%|████████  | 4/5 [07:34<01:53, 113.31s/it]\u001b[A\u001b[A\n",
            "\n",
            "100%|██████████| 5/5 [09:27<00:00, 113.48s/it]\n"
          ],
          "name": "stderr"
        },
        {
          "output_type": "stream",
          "text": [
            "(param_acc, top_acc):  (200, 1, 0.5305907172995781)\n",
            "(param_f1, top_f1):  (200, 1, 0.4198174706649283)\n"
          ],
          "name": "stdout"
        },
        {
          "output_type": "display_data",
          "data": {
            "image/png": "[encoded data removed]",
            "text/plain": [
              "<Figure size 432x288 with 1 Axes>"
            ]
          },
          "metadata": {
            "tags": [],
            "needs_background": "light"
          }
        }
      ]
    },
    {
      "cell_type": "code",
      "metadata": {
        "id": "19Sq3I0nE7jj",
        "colab_type": "code",
        "colab": {
          "base_uri": "https://localhost:8080/",
          "height": 313
        },
        "outputId": "04151b57-f286-484b-8594-b3f6330cfefa"
      },
      "source": [
        "\n",
        "print('(param_acc, top_acc): ', get_top(max_features_list,alpha_list, accs))\n",
        "print('(param_f1, top_f1): ',  get_top(max_features_list,alpha_list, f1s))\n",
        "show_me_max_feature(max_features_list,alpha_list, 0.01, accs2, f1s2)"
      ],
      "execution_count": 115,
      "outputs": [
        {
          "output_type": "stream",
          "text": [
            "(param_acc, top_acc):  (200, 1, 0.5305907172995781)\n",
            "(param_f1, top_f1):  (200, 1, 0.4198174706649283)\n"
          ],
          "name": "stdout"
        },
        {
          "output_type": "display_data",
          "data": {
            "image/png": "[encoded data removed]",
            "text/plain": [
              "<Figure size 432x288 with 1 Axes>"
            ]
          },
          "metadata": {
            "tags": [],
            "needs_background": "light"
          }
        }
      ]
    },
    {
      "cell_type": "code",
      "metadata": {
        "id": "rQL5-mLUUyIA",
        "colab_type": "code",
        "outputId": "ff520af9-1e1f-4d02-d044-ba6a3f71b481",
        "colab": {
          "base_uri": "https://localhost:8080/",
          "height": 278
        }
      },
      "source": [
        "show_me_alpha(max_features_list,alpha_list, 1000, accs2, f1s2)"
      ],
      "execution_count": 116,
      "outputs": [
        {
          "output_type": "display_data",
          "data": {
            "image/png": "[encoded data removed]",
            "text/plain": [
              "<Figure size 432x288 with 1 Axes>"
            ]
          },
          "metadata": {
            "tags": [],
            "needs_background": "light"
          }
        }
      ]
    },
    {
      "cell_type": "code",
      "metadata": {
        "id": "IF-Jg9jypFDr",
        "colab_type": "code",
        "colab": {}
      },
      "source": [
        "f1s2"
      ],
      "execution_count": 0,
      "outputs": []
    },
    {
      "cell_type": "code",
      "metadata": {
        "id": "__PADuNwA0o9",
        "colab_type": "code",
        "colab": {}
      },
      "source": [
        "accs"
      ],
      "execution_count": 0,
      "outputs": []
    },
    {
      "cell_type": "code",
      "metadata": {
        "id": "ze2xOvB-9ynP",
        "colab_type": "code",
        "colab": {}
      },
      "source": [
        ""
      ],
      "execution_count": 0,
      "outputs": []
    }
  ]
}
