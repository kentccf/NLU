{
 "cells": [
  {
   "cell_type": "code",
   "execution_count": 28,
   "metadata": {},
   "outputs": [
    {
     "data": {
      "text/plain": [
       "'/home/kentccf/.local/share/Trash/files/transcript'"
      ]
     },
     "execution_count": 28,
     "metadata": {},
     "output_type": "execute_result"
    }
   ],
   "source": [
    "import os\n",
    "import pandas as pd\n",
    "import numpy as np\n",
    "from datetime import timedelta, date\n",
    "from datetime import datetime\n",
    "import pandas_datareader.data as web\n",
    "import re\n",
    "os.getcwd()"
   ]
  },
  {
   "cell_type": "code",
   "execution_count": 29,
   "metadata": {},
   "outputs": [],
   "source": [
    "import zipfile\n",
    "os.chdir('/home/kentccf')\n",
    "with zipfile.ZipFile(\"transcripts.zip\",\"r\") as zip_ref:\n",
    "    zip_ref.extractall(\"/home/kentccf\")"
   ]
  },
  {
   "cell_type": "code",
   "execution_count": 30,
   "metadata": {},
   "outputs": [
    {
     "data": {
      "text/plain": [
       "'/home/kentccf/transcript'"
      ]
     },
     "execution_count": 30,
     "metadata": {},
     "output_type": "execute_result"
    }
   ],
   "source": [
    "os.chdir('/home/kentccf/transcript')\n",
    "os.getcwd()"
   ]
  },
  {
   "cell_type": "code",
   "execution_count": 31,
   "metadata": {},
   "outputs": [],
   "source": [
    "folders = os.listdir()"
   ]
  },
  {
   "cell_type": "code",
   "execution_count": 32,
   "metadata": {},
   "outputs": [
    {
     "data": {
      "text/plain": [
       "['.ipynb_checkpoints', 'A', 'AA']"
      ]
     },
     "execution_count": 32,
     "metadata": {},
     "output_type": "execute_result"
    }
   ],
   "source": [
    "folders[:3]"
   ]
  },
  {
   "cell_type": "code",
   "execution_count": 35,
   "metadata": {},
   "outputs": [
    {
     "data": {
      "text/plain": [
       "['A',\n",
       " 'AA',\n",
       " 'AAPL',\n",
       " 'ABC',\n",
       " 'ABK',\n",
       " 'ABT',\n",
       " 'ACE',\n",
       " 'ACS',\n",
       " 'ADBE',\n",
       " 'ADCT',\n",
       " 'ADI',\n",
       " 'ADM',\n",
       " 'ADP',\n",
       " 'ADSK',\n",
       " 'AEE',\n",
       " 'AEP',\n",
       " 'AES',\n",
       " 'AET',\n",
       " 'AFL',\n",
       " 'AGN',\n",
       " 'AIG',\n",
       " 'AIV',\n",
       " 'ALL',\n",
       " 'ALTR',\n",
       " 'AMAT',\n",
       " 'AMD',\n",
       " 'AMGN',\n",
       " 'AMP',\n",
       " 'AMZN',\n",
       " 'AN',\n",
       " 'APA',\n",
       " 'APC',\n",
       " 'APCC',\n",
       " 'APD',\n",
       " 'APOL',\n",
       " 'ASD',\n",
       " 'ASH',\n",
       " 'ASN',\n",
       " 'ATI',\n",
       " 'AV',\n",
       " 'AVP',\n",
       " 'AVY',\n",
       " 'AXP',\n",
       " 'AYE',\n",
       " 'AZO',\n",
       " 'BA',\n",
       " 'BAC',\n",
       " 'BAX',\n",
       " 'BBBY',\n",
       " 'BBT',\n",
       " 'BBY',\n",
       " 'BC',\n",
       " 'BCR',\n",
       " 'BDK',\n",
       " 'BDX',\n",
       " 'BEN',\n",
       " 'BHI',\n",
       " 'BIG',\n",
       " 'BIIB',\n",
       " 'BJS',\n",
       " 'BK',\n",
       " 'BLL',\n",
       " 'BMC',\n",
       " 'BMS',\n",
       " 'BMY',\n",
       " 'BNI',\n",
       " 'BRCM',\n",
       " 'BSC',\n",
       " 'BSX',\n",
       " 'BTU',\n",
       " 'BXP',\n",
       " 'C',\n",
       " 'CA',\n",
       " 'CAG',\n",
       " 'CAH',\n",
       " 'CAT',\n",
       " 'CB',\n",
       " 'CBE',\n",
       " 'CBG',\n",
       " 'CBH',\n",
       " 'CBS',\n",
       " 'CCE',\n",
       " 'CCU',\n",
       " 'CEG',\n",
       " 'CELG',\n",
       " 'CHK',\n",
       " 'CI',\n",
       " 'CINF',\n",
       " 'CIT',\n",
       " 'CL',\n",
       " 'CLX',\n",
       " 'CMA',\n",
       " 'CMCSA',\n",
       " 'CME',\n",
       " 'CMI',\n",
       " 'CMS',\n",
       " 'CNP',\n",
       " 'CNX',\n",
       " 'COF',\n",
       " 'COH',\n",
       " 'COL',\n",
       " 'COP',\n",
       " 'COST',\n",
       " 'CP',\n",
       " 'CPB',\n",
       " 'CPWR',\n",
       " 'CSC',\n",
       " 'CSCO',\n",
       " 'CSX',\n",
       " 'CTAS',\n",
       " 'CTL',\n",
       " 'CTSH',\n",
       " 'CTX',\n",
       " 'CTXS',\n",
       " 'CVG',\n",
       " 'CVH',\n",
       " 'CVS',\n",
       " 'CVX',\n",
       " 'D',\n",
       " 'DD',\n",
       " 'DE',\n",
       " 'DELL',\n",
       " 'DF',\n",
       " 'DG',\n",
       " 'DGX',\n",
       " 'DHI',\n",
       " 'DHR',\n",
       " 'DIS',\n",
       " 'DOV',\n",
       " 'DOW',\n",
       " 'DRI',\n",
       " 'DTE',\n",
       " 'DTV',\n",
       " 'DUK',\n",
       " 'DVN',\n",
       " 'DYN',\n",
       " 'EBAY',\n",
       " 'ECL',\n",
       " 'ED',\n",
       " 'EDS',\n",
       " 'EFX',\n",
       " 'EIX',\n",
       " 'EK',\n",
       " 'EL',\n",
       " 'EMC',\n",
       " 'EMN',\n",
       " 'EMR',\n",
       " 'EOG',\n",
       " 'EP',\n",
       " 'EQR',\n",
       " 'ERTS',\n",
       " 'ESRX',\n",
       " 'ESV',\n",
       " 'ETFC',\n",
       " 'ETN',\n",
       " 'ETR',\n",
       " 'EXC',\n",
       " 'F',\n",
       " 'FCX',\n",
       " 'FDO',\n",
       " 'FDX',\n",
       " 'FE',\n",
       " 'FHN',\n",
       " 'FII',\n",
       " 'FIS',\n",
       " 'FISV',\n",
       " 'FITB',\n",
       " 'FLR',\n",
       " 'FNM',\n",
       " 'FO',\n",
       " 'FPL',\n",
       " 'FRE',\n",
       " 'FRX',\n",
       " 'GAS',\n",
       " 'GCI',\n",
       " 'GD',\n",
       " 'GE',\n",
       " 'GENZ',\n",
       " 'GILD',\n",
       " 'GIS',\n",
       " 'GLW',\n",
       " 'GNW',\n",
       " 'GOOG',\n",
       " 'GPC',\n",
       " 'GPS',\n",
       " 'GR',\n",
       " 'GS',\n",
       " 'GT',\n",
       " 'HAL',\n",
       " 'HAR',\n",
       " 'HAS',\n",
       " 'HBAN',\n",
       " 'HD',\n",
       " 'HES',\n",
       " 'HIG',\n",
       " 'HMA',\n",
       " 'HNZ',\n",
       " 'HOG',\n",
       " 'HON',\n",
       " 'HOT',\n",
       " 'HPQ',\n",
       " 'HRB',\n",
       " 'HSP',\n",
       " 'HSY',\n",
       " 'HUM',\n",
       " 'IACI',\n",
       " 'IBM',\n",
       " 'IFF',\n",
       " 'IGT',\n",
       " 'INTC',\n",
       " 'INTU',\n",
       " 'IP',\n",
       " 'IPG',\n",
       " 'IR',\n",
       " 'ITT',\n",
       " 'ITW',\n",
       " 'JBL',\n",
       " 'JCI',\n",
       " 'JDSU',\n",
       " 'JNJ',\n",
       " 'JNPR',\n",
       " 'JNS',\n",
       " 'JNY',\n",
       " 'JPM',\n",
       " 'JWN',\n",
       " 'K',\n",
       " 'KBH',\n",
       " 'KEY',\n",
       " 'KG',\n",
       " 'KIM',\n",
       " 'KLAC',\n",
       " 'KMB',\n",
       " 'KO',\n",
       " 'KR',\n",
       " 'KSE',\n",
       " 'KSS',\n",
       " 'LEG',\n",
       " 'LEHMQ.PK',\n",
       " 'LEN',\n",
       " 'LH',\n",
       " 'LIZ',\n",
       " 'LLL',\n",
       " 'LLTC',\n",
       " 'LLY',\n",
       " 'LM',\n",
       " 'LMT',\n",
       " 'LNC',\n",
       " 'LOW',\n",
       " 'LSI',\n",
       " 'LTD',\n",
       " 'LUV',\n",
       " 'LXK',\n",
       " 'MAR',\n",
       " 'MAS',\n",
       " 'MAT',\n",
       " 'MBI',\n",
       " 'MCD',\n",
       " 'MCK',\n",
       " 'MCO',\n",
       " 'MDP',\n",
       " 'MET',\n",
       " 'MHP',\n",
       " 'MHS',\n",
       " 'MI',\n",
       " 'MIL',\n",
       " 'MKC',\n",
       " 'MMM',\n",
       " 'MO',\n",
       " 'MOLX',\n",
       " 'MON',\n",
       " 'MOT',\n",
       " 'MRK',\n",
       " 'MRO',\n",
       " 'MS',\n",
       " 'MSFT',\n",
       " 'MTB',\n",
       " 'MTG',\n",
       " 'MU',\n",
       " 'MUR',\n",
       " 'MWV',\n",
       " 'MXIM',\n",
       " 'MYL',\n",
       " 'NBR',\n",
       " 'NCR',\n",
       " 'NE',\n",
       " 'NEM',\n",
       " 'NI',\n",
       " 'NKE',\n",
       " 'NOC',\n",
       " 'NOV',\n",
       " 'NOVL',\n",
       " 'NSC',\n",
       " 'NSM',\n",
       " 'NTAP',\n",
       " 'NTRS',\n",
       " 'NUE',\n",
       " 'NVDA',\n",
       " 'NVLS',\n",
       " 'NWL',\n",
       " 'NYT',\n",
       " 'ODP',\n",
       " 'OMC',\n",
       " 'OMX',\n",
       " 'ORCL',\n",
       " 'OXY',\n",
       " 'PAYX',\n",
       " 'PBG',\n",
       " 'PBI',\n",
       " 'PCAR',\n",
       " 'PCG',\n",
       " 'PCL',\n",
       " 'PDCO',\n",
       " 'PEG',\n",
       " 'PEP',\n",
       " 'PFE',\n",
       " 'PFG',\n",
       " 'PG',\n",
       " 'PGL',\n",
       " 'PGN',\n",
       " 'PGR',\n",
       " 'PH',\n",
       " 'PHM',\n",
       " 'PKI',\n",
       " 'PLD',\n",
       " 'PLL',\n",
       " 'PMCS',\n",
       " 'PNC',\n",
       " 'PNW',\n",
       " 'PPG',\n",
       " 'PPL',\n",
       " 'PRU',\n",
       " 'PSA',\n",
       " 'PTV',\n",
       " 'PX',\n",
       " 'Q',\n",
       " 'QCOM',\n",
       " 'QLGC',\n",
       " 'R',\n",
       " 'RAI',\n",
       " 'RDC',\n",
       " 'RF',\n",
       " 'RHI',\n",
       " 'RIG',\n",
       " 'ROH',\n",
       " 'ROK',\n",
       " 'RRD',\n",
       " 'RSH',\n",
       " 'RTN',\n",
       " 'S',\n",
       " 'SAF',\n",
       " 'SANM',\n",
       " 'SCHW',\n",
       " 'SEE',\n",
       " 'SHLD',\n",
       " 'SHW',\n",
       " 'SIAL',\n",
       " 'SII',\n",
       " 'SLB',\n",
       " 'SLE',\n",
       " 'SLM',\n",
       " 'SLR',\n",
       " 'SNA',\n",
       " 'SNDK',\n",
       " 'SNV',\n",
       " 'SO',\n",
       " 'SPG',\n",
       " 'SPLS',\n",
       " 'SRE',\n",
       " 'SSP',\n",
       " 'STI',\n",
       " 'STJ',\n",
       " 'STR',\n",
       " 'STT',\n",
       " 'STZ',\n",
       " 'SUN',\n",
       " 'SVU',\n",
       " 'SWK',\n",
       " 'SWY',\n",
       " 'SYK',\n",
       " 'SYMC',\n",
       " 'SYY',\n",
       " 'T',\n",
       " 'TAP',\n",
       " 'TE',\n",
       " 'TEK',\n",
       " 'TER',\n",
       " 'TEX',\n",
       " 'TGT',\n",
       " 'THC',\n",
       " 'TIF',\n",
       " 'TIN',\n",
       " 'TLAB',\n",
       " 'TMK',\n",
       " 'TMO',\n",
       " 'TRB',\n",
       " 'TSG',\n",
       " 'TSN',\n",
       " 'TWX',\n",
       " 'TXN',\n",
       " 'TXT',\n",
       " 'TYC',\n",
       " 'UIS',\n",
       " 'UNH',\n",
       " 'UNM',\n",
       " 'UNP',\n",
       " 'UPS',\n",
       " 'USB',\n",
       " 'UTX',\n",
       " 'VFC',\n",
       " 'VLO',\n",
       " 'VMC',\n",
       " 'VRSN',\n",
       " 'VZ',\n",
       " 'WAG',\n",
       " 'WAT',\n",
       " 'WEN',\n",
       " 'WFC',\n",
       " 'WFMI',\n",
       " 'WFT',\n",
       " 'WHR',\n",
       " 'WIN',\n",
       " 'WLP',\n",
       " 'WM',\n",
       " 'WMB',\n",
       " 'WMT',\n",
       " 'WPI',\n",
       " 'WY',\n",
       " 'X',\n",
       " 'XEL',\n",
       " 'XL',\n",
       " 'XLNX',\n",
       " 'XOM',\n",
       " 'XRX',\n",
       " 'XTO',\n",
       " 'YHOO',\n",
       " 'YUM',\n",
       " 'ZION',\n",
       " 'ZMH']"
      ]
     },
     "execution_count": 35,
     "metadata": {},
     "output_type": "execute_result"
    }
   ],
   "source": [
    "folders[1:]"
   ]
  },
  {
   "cell_type": "code",
   "execution_count": null,
   "metadata": {},
   "outputs": [],
   "source": [
    "fol = '/home/kentccf/transcript/'+str(folders[0])\n",
    "os.chdir(fol)\n",
    "os.getcwd()"
   ]
  },
  {
   "cell_type": "code",
   "execution_count": null,
   "metadata": {},
   "outputs": [],
   "source": [
    "files = os.listdir()"
   ]
  },
  {
   "cell_type": "code",
   "execution_count": null,
   "metadata": {},
   "outputs": [],
   "source": [
    "files[1]"
   ]
  },
  {
   "cell_type": "code",
   "execution_count": null,
   "metadata": {},
   "outputs": [],
   "source": [
    "ticker = re.findall(\"^[A-Z]*\",files[1])[0]\n",
    "date = re.findall(\"\\d{4}-\\d{2}-\\d{2}\",files[1])[0]"
   ]
  },
  {
   "cell_type": "code",
   "execution_count": null,
   "metadata": {},
   "outputs": [],
   "source": [
    "ticker"
   ]
  },
  {
   "cell_type": "code",
   "execution_count": null,
   "metadata": {},
   "outputs": [],
   "source": [
    "release = datetime.strptime(date, '%Y-%m-%d')\n",
    "release"
   ]
  },
  {
   "cell_type": "code",
   "execution_count": null,
   "metadata": {},
   "outputs": [],
   "source": [
    "start = release - timedelta(days=1)\n",
    "end = start + timedelta(days=7)"
   ]
  },
  {
   "cell_type": "code",
   "execution_count": null,
   "metadata": {},
   "outputs": [],
   "source": [
    "data = web.DataReader(ticker,data_source=\"yahoo\",start=start,end=end)[['Adj Close']]\n",
    "data['ret'] = data.pct_change(periods=1)\n",
    "vol = data['ret'].std()\n",
    "ret = ((data['Adj Close'].tail(1)[0] - data['Adj Close'].head(1)[0]) / data['Adj Close'].head(1)[0]) / vol\n",
    "sp = web.DataReader(\"^GSPC\",data_source=\"yahoo\",start=start,end=end)[['Adj Close']]\n",
    "sp['ret'] = sp.pct_change(periods=1)\n",
    "sp_vol = sp['ret'].std()\n",
    "sp_ret = ((sp['Adj Close'].tail(1)[0] - sp['Adj Close'].head(1)[0]) / sp['Adj Close'].head(1)[0]) / sp_vol\n",
    "excess_ret = ret - sp_ret"
   ]
  },
  {
   "cell_type": "code",
   "execution_count": null,
   "metadata": {
    "scrolled": true
   },
   "outputs": [],
   "source": [
    "vol, sp_vol"
   ]
  },
  {
   "cell_type": "code",
   "execution_count": null,
   "metadata": {},
   "outputs": [],
   "source": [
    "ret, sp_ret, excess_ret"
   ]
  },
  {
   "cell_type": "code",
   "execution_count": null,
   "metadata": {},
   "outputs": [],
   "source": []
  },
  {
   "cell_type": "code",
   "execution_count": 36,
   "metadata": {
    "scrolled": false
   },
   "outputs": [
    {
     "name": "stderr",
     "output_type": "stream",
     "text": [
      "/home/kentccf/anaconda3/lib/python3.7/site-packages/ipykernel_launcher.py:22: RuntimeWarning: invalid value encountered in double_scalars\n",
      "/home/kentccf/anaconda3/lib/python3.7/site-packages/ipykernel_launcher.py:22: RuntimeWarning: invalid value encountered in double_scalars\n",
      "/home/kentccf/anaconda3/lib/python3.7/site-packages/ipykernel_launcher.py:22: RuntimeWarning: invalid value encountered in double_scalars\n",
      "/home/kentccf/anaconda3/lib/python3.7/site-packages/ipykernel_launcher.py:22: RuntimeWarning: invalid value encountered in double_scalars\n",
      "/home/kentccf/anaconda3/lib/python3.7/site-packages/ipykernel_launcher.py:22: RuntimeWarning: invalid value encountered in double_scalars\n",
      "/home/kentccf/anaconda3/lib/python3.7/site-packages/ipykernel_launcher.py:22: RuntimeWarning: invalid value encountered in double_scalars\n",
      "/home/kentccf/anaconda3/lib/python3.7/site-packages/ipykernel_launcher.py:22: RuntimeWarning: invalid value encountered in double_scalars\n",
      "/home/kentccf/anaconda3/lib/python3.7/site-packages/ipykernel_launcher.py:22: RuntimeWarning: invalid value encountered in double_scalars\n",
      "/home/kentccf/anaconda3/lib/python3.7/site-packages/ipykernel_launcher.py:22: RuntimeWarning: invalid value encountered in double_scalars\n",
      "/home/kentccf/anaconda3/lib/python3.7/site-packages/ipykernel_launcher.py:22: RuntimeWarning: invalid value encountered in double_scalars\n",
      "/home/kentccf/anaconda3/lib/python3.7/site-packages/ipykernel_launcher.py:22: RuntimeWarning: invalid value encountered in double_scalars\n",
      "/home/kentccf/anaconda3/lib/python3.7/site-packages/ipykernel_launcher.py:22: RuntimeWarning: invalid value encountered in double_scalars\n",
      "/home/kentccf/anaconda3/lib/python3.7/site-packages/ipykernel_launcher.py:22: RuntimeWarning: invalid value encountered in double_scalars\n",
      "/home/kentccf/anaconda3/lib/python3.7/site-packages/ipykernel_launcher.py:22: RuntimeWarning: invalid value encountered in double_scalars\n",
      "/home/kentccf/anaconda3/lib/python3.7/site-packages/ipykernel_launcher.py:22: RuntimeWarning: invalid value encountered in double_scalars\n",
      "/home/kentccf/anaconda3/lib/python3.7/site-packages/ipykernel_launcher.py:22: RuntimeWarning: invalid value encountered in double_scalars\n",
      "/home/kentccf/anaconda3/lib/python3.7/site-packages/ipykernel_launcher.py:22: RuntimeWarning: invalid value encountered in double_scalars\n",
      "/home/kentccf/anaconda3/lib/python3.7/site-packages/ipykernel_launcher.py:22: RuntimeWarning: invalid value encountered in double_scalars\n",
      "/home/kentccf/anaconda3/lib/python3.7/site-packages/ipykernel_launcher.py:22: RuntimeWarning: invalid value encountered in double_scalars\n",
      "/home/kentccf/anaconda3/lib/python3.7/site-packages/ipykernel_launcher.py:22: RuntimeWarning: invalid value encountered in double_scalars\n",
      "/home/kentccf/anaconda3/lib/python3.7/site-packages/ipykernel_launcher.py:22: RuntimeWarning: invalid value encountered in double_scalars\n",
      "/home/kentccf/anaconda3/lib/python3.7/site-packages/ipykernel_launcher.py:22: RuntimeWarning: invalid value encountered in double_scalars\n",
      "/home/kentccf/anaconda3/lib/python3.7/site-packages/ipykernel_launcher.py:22: RuntimeWarning: invalid value encountered in double_scalars\n",
      "/home/kentccf/anaconda3/lib/python3.7/site-packages/ipykernel_launcher.py:22: RuntimeWarning: invalid value encountered in double_scalars\n",
      "/home/kentccf/anaconda3/lib/python3.7/site-packages/ipykernel_launcher.py:22: RuntimeWarning: invalid value encountered in double_scalars\n",
      "/home/kentccf/anaconda3/lib/python3.7/site-packages/ipykernel_launcher.py:22: RuntimeWarning: invalid value encountered in double_scalars\n",
      "/home/kentccf/anaconda3/lib/python3.7/site-packages/ipykernel_launcher.py:22: RuntimeWarning: invalid value encountered in double_scalars\n",
      "/home/kentccf/anaconda3/lib/python3.7/site-packages/ipykernel_launcher.py:22: RuntimeWarning: invalid value encountered in double_scalars\n",
      "/home/kentccf/anaconda3/lib/python3.7/site-packages/ipykernel_launcher.py:22: RuntimeWarning: invalid value encountered in double_scalars\n",
      "/home/kentccf/anaconda3/lib/python3.7/site-packages/ipykernel_launcher.py:22: RuntimeWarning: invalid value encountered in double_scalars\n",
      "/home/kentccf/anaconda3/lib/python3.7/site-packages/ipykernel_launcher.py:22: RuntimeWarning: invalid value encountered in double_scalars\n",
      "/home/kentccf/anaconda3/lib/python3.7/site-packages/ipykernel_launcher.py:22: RuntimeWarning: invalid value encountered in double_scalars\n",
      "/home/kentccf/anaconda3/lib/python3.7/site-packages/ipykernel_launcher.py:22: RuntimeWarning: invalid value encountered in double_scalars\n",
      "/home/kentccf/anaconda3/lib/python3.7/site-packages/ipykernel_launcher.py:22: RuntimeWarning: invalid value encountered in double_scalars\n",
      "/home/kentccf/anaconda3/lib/python3.7/site-packages/ipykernel_launcher.py:22: RuntimeWarning: invalid value encountered in double_scalars\n",
      "/home/kentccf/anaconda3/lib/python3.7/site-packages/ipykernel_launcher.py:22: RuntimeWarning: invalid value encountered in double_scalars\n",
      "/home/kentccf/anaconda3/lib/python3.7/site-packages/ipykernel_launcher.py:22: RuntimeWarning: invalid value encountered in double_scalars\n",
      "/home/kentccf/anaconda3/lib/python3.7/site-packages/ipykernel_launcher.py:22: RuntimeWarning: invalid value encountered in double_scalars\n",
      "/home/kentccf/anaconda3/lib/python3.7/site-packages/ipykernel_launcher.py:22: RuntimeWarning: invalid value encountered in double_scalars\n",
      "/home/kentccf/anaconda3/lib/python3.7/site-packages/ipykernel_launcher.py:22: RuntimeWarning: invalid value encountered in double_scalars\n",
      "/home/kentccf/anaconda3/lib/python3.7/site-packages/ipykernel_launcher.py:22: RuntimeWarning: invalid value encountered in double_scalars\n",
      "/home/kentccf/anaconda3/lib/python3.7/site-packages/ipykernel_launcher.py:22: RuntimeWarning: invalid value encountered in double_scalars\n",
      "/home/kentccf/anaconda3/lib/python3.7/site-packages/ipykernel_launcher.py:22: RuntimeWarning: invalid value encountered in double_scalars\n",
      "/home/kentccf/anaconda3/lib/python3.7/site-packages/ipykernel_launcher.py:22: RuntimeWarning: invalid value encountered in double_scalars\n",
      "/home/kentccf/anaconda3/lib/python3.7/site-packages/ipykernel_launcher.py:22: RuntimeWarning: invalid value encountered in double_scalars\n",
      "/home/kentccf/anaconda3/lib/python3.7/site-packages/ipykernel_launcher.py:22: RuntimeWarning: invalid value encountered in double_scalars\n",
      "/home/kentccf/anaconda3/lib/python3.7/site-packages/ipykernel_launcher.py:22: RuntimeWarning: invalid value encountered in double_scalars\n",
      "/home/kentccf/anaconda3/lib/python3.7/site-packages/ipykernel_launcher.py:22: RuntimeWarning: invalid value encountered in double_scalars\n",
      "/home/kentccf/anaconda3/lib/python3.7/site-packages/ipykernel_launcher.py:22: RuntimeWarning: invalid value encountered in double_scalars\n",
      "/home/kentccf/anaconda3/lib/python3.7/site-packages/ipykernel_launcher.py:22: RuntimeWarning: invalid value encountered in double_scalars\n",
      "/home/kentccf/anaconda3/lib/python3.7/site-packages/ipykernel_launcher.py:22: RuntimeWarning: invalid value encountered in double_scalars\n",
      "/home/kentccf/anaconda3/lib/python3.7/site-packages/ipykernel_launcher.py:22: RuntimeWarning: invalid value encountered in double_scalars\n",
      "/home/kentccf/anaconda3/lib/python3.7/site-packages/ipykernel_launcher.py:22: RuntimeWarning: invalid value encountered in double_scalars\n",
      "/home/kentccf/anaconda3/lib/python3.7/site-packages/ipykernel_launcher.py:22: RuntimeWarning: invalid value encountered in double_scalars\n",
      "/home/kentccf/anaconda3/lib/python3.7/site-packages/ipykernel_launcher.py:22: RuntimeWarning: invalid value encountered in double_scalars\n",
      "/home/kentccf/anaconda3/lib/python3.7/site-packages/ipykernel_launcher.py:22: RuntimeWarning: invalid value encountered in double_scalars\n",
      "/home/kentccf/anaconda3/lib/python3.7/site-packages/ipykernel_launcher.py:22: RuntimeWarning: invalid value encountered in double_scalars\n",
      "/home/kentccf/anaconda3/lib/python3.7/site-packages/ipykernel_launcher.py:22: RuntimeWarning: invalid value encountered in double_scalars\n",
      "/home/kentccf/anaconda3/lib/python3.7/site-packages/ipykernel_launcher.py:22: RuntimeWarning: invalid value encountered in double_scalars\n",
      "/home/kentccf/anaconda3/lib/python3.7/site-packages/ipykernel_launcher.py:22: RuntimeWarning: invalid value encountered in double_scalars\n"
     ]
    },
    {
     "name": "stderr",
     "output_type": "stream",
     "text": [
      "/home/kentccf/anaconda3/lib/python3.7/site-packages/ipykernel_launcher.py:22: RuntimeWarning: invalid value encountered in double_scalars\n",
      "/home/kentccf/anaconda3/lib/python3.7/site-packages/ipykernel_launcher.py:22: RuntimeWarning: invalid value encountered in double_scalars\n",
      "/home/kentccf/anaconda3/lib/python3.7/site-packages/ipykernel_launcher.py:22: RuntimeWarning: invalid value encountered in double_scalars\n",
      "/home/kentccf/anaconda3/lib/python3.7/site-packages/ipykernel_launcher.py:22: RuntimeWarning: invalid value encountered in double_scalars\n"
     ]
    }
   ],
   "source": [
    "ticker_list = []\n",
    "date_list = []\n",
    "ret_list = []\n",
    "direction_list = []\n",
    "fail_ticker = []\n",
    "fail_date = []\n",
    "for i in folders[1:]:\n",
    "    fol = '/home/kentccf/transcript/'+ i\n",
    "    os.chdir(fol)\n",
    "    files = os.listdir()\n",
    "    for transcript in files:\n",
    "        ticker = re.findall(\"^[A-Z]*\",transcript)[0]\n",
    "        str_date = re.findall(\"\\d{4}-\\d{2}-\\d{2}\",transcript)[0]\n",
    "        \n",
    "        try:\n",
    "            release = datetime.strptime(str_date, '%Y-%m-%d')\n",
    "            start = release - timedelta(days=1)\n",
    "            end = start + timedelta(days=7)\n",
    "            data = web.DataReader(ticker,data_source=\"yahoo\",start=start,end=end)[['Adj Close']]\n",
    "            data['ret'] = data.pct_change(periods=1)\n",
    "            vol = data['ret'].std()\n",
    "            ret = ((data['Adj Close'].tail(1)[0] - data['Adj Close'].head(1)[0]) / data['Adj Close'].head(1)[0]) / vol\n",
    "            #ret = (data['Adj Close'].tail(1)[0] - data['Adj Close'].head(1)[0]) / data['Adj Close'].head(1)[0]\n",
    "            sp = web.DataReader(\"^GSPC\",data_source=\"yahoo\",start=start,end=end)[['Adj Close']]\n",
    "            sp['ret'] = sp.pct_change(periods=1)\n",
    "            sp_vol = sp['ret'].std()\n",
    "            sp_ret = ((sp['Adj Close'].tail(1)[0] - sp['Adj Close'].head(1)[0]) / sp['Adj Close'].head(1)[0]) / sp_vol\n",
    "            #sp_ret = (sp['Adj Close'].tail(1)[0] - sp['Adj Close'].head(1)[0]) / sp['Adj Close'].head(1)[0]\n",
    "            excess_ret = ret - sp_ret\n",
    "            if excess_ret > 0:\n",
    "                direction = 'up'\n",
    "            else:\n",
    "                direction = 'down'\n",
    "                \n",
    "            if excess_ret >= 0 or excess_ret<0:\n",
    "                ticker_list.append(ticker)\n",
    "                date_list.append(str_date)\n",
    "                ret_list.append(excess_ret)\n",
    "                direction_list.append(direction)\n",
    "            else:\n",
    "                continue\n",
    "        except:\n",
    "            fail_ticker.append(ticker)\n",
    "            fail_date.append(str_date)\n",
    "\n",
    "df = pd.DataFrame({\"Ticker\":ticker_list,\"Date\":date_list,\"Excess Return\":ret_list,\"Direction\":direction_list})\n",
    "fail = pd.DataFrame({\"Ticker\":fail_ticker, \"Date\":fail_date})"
   ]
  },
  {
   "cell_type": "code",
   "execution_count": null,
   "metadata": {},
   "outputs": [],
   "source": []
  },
  {
   "cell_type": "code",
   "execution_count": null,
   "metadata": {},
   "outputs": [],
   "source": []
  },
  {
   "cell_type": "code",
   "execution_count": null,
   "metadata": {},
   "outputs": [],
   "source": []
  },
  {
   "cell_type": "code",
   "execution_count": null,
   "metadata": {},
   "outputs": [],
   "source": []
  },
  {
   "cell_type": "code",
   "execution_count": null,
   "metadata": {},
   "outputs": [],
   "source": [
    "#fail_ticker"
   ]
  },
  {
   "cell_type": "code",
   "execution_count": null,
   "metadata": {},
   "outputs": [],
   "source": [
    "df = pd.DataFrame({\"Ticker\":ticker_list,\"Date\":date_list,\"Excess Return\":ret_list,\"Direction\":direction_list})\n",
    "fail = pd.DataFrame({\"Ticker\":fail_ticker, \"Date\":date_list})"
   ]
  },
  {
   "cell_type": "code",
   "execution_count": 37,
   "metadata": {},
   "outputs": [
    {
     "data": {
      "text/plain": [
       "'/home/kentccf'"
      ]
     },
     "execution_count": 37,
     "metadata": {},
     "output_type": "execute_result"
    }
   ],
   "source": [
    "os.chdir('/home/kentccf/')\n",
    "os.getcwd()"
   ]
  },
  {
   "cell_type": "code",
   "execution_count": 49,
   "metadata": {},
   "outputs": [],
   "source": [
    "df.to_csv(\"labels_backup.csv\")"
   ]
  },
  {
   "cell_type": "code",
   "execution_count": null,
   "metadata": {},
   "outputs": [],
   "source": [
    "len(fail_ticker)"
   ]
  },
  {
   "cell_type": "code",
   "execution_count": null,
   "metadata": {},
   "outputs": [],
   "source": [
    "len(fail_date)"
   ]
  },
  {
   "cell_type": "code",
   "execution_count": null,
   "metadata": {},
   "outputs": [],
   "source": [
    "fail = pd.DataFrame({\"Ticker\":fail_ticker, \"Date\":fail_date})"
   ]
  },
  {
   "cell_type": "code",
   "execution_count": 50,
   "metadata": {},
   "outputs": [],
   "source": [
    "fail.to_csv(\"failed_backup.csv\")"
   ]
  },
  {
   "cell_type": "code",
   "execution_count": null,
   "metadata": {},
   "outputs": [],
   "source": [
    "ticker = \"ASN\"\n",
    "start = datetime.strptime(\"2004-11-02\", '%Y-%m-%d')\n",
    "end = start + timedelta(days=7)\n",
    "#data = web.DataReader(ticker,data_source=\"yahoo\",start=start,end=end)[['Adj Close']]\n",
    "#sp = web.DataReader(\"^GSPC\",data_source=\"yahoo\",start=start,end=end)[['Adj Close']]\n",
    "\n",
    "data = web.DataReader(ticker,data_source=\"yahoo\",start=start,end=end)[['Adj Close']]\n",
    "data['ret'] = data.pct_change(periods=1)\n",
    "vol = data['ret'].std()\n",
    "ret = ((data['Adj Close'].tail(1)[0] - data['Adj Close'].head(1)[0]) / data['Adj Close'].head(1)[0]) / vol\n",
    "#ret = (data['Adj Close'].tail(1)[0] - data['Adj Close'].head(1)[0]) / data['Adj Close'].head(1)[0]\n",
    "sp = web.DataReader(\"^GSPC\",data_source=\"yahoo\",start=start,end=end)[['Adj Close']]\n",
    "sp['ret'] = sp.pct_change(periods=1)\n",
    "sp_vol = sp['ret'].std()\n",
    "sp_ret = ((sp['Adj Close'].tail(1)[0] - sp['Adj Close'].head(1)[0]) / sp['Adj Close'].head(1)[0]) / sp_vol\n",
    "#sp_ret = (sp['Adj Close'].tail(1)[0] - sp['Adj Close'].head(1)[0]) / sp['Adj Close'].head(1)[0]\n",
    "excess_ret = ret - sp_ret"
   ]
  },
  {
   "cell_type": "code",
   "execution_count": null,
   "metadata": {},
   "outputs": [],
   "source": [
    "if excess_ret >= 0 or excess_ret<0:\n",
    "    print(\"true\")\n",
    "else:\n",
    "    print(\"false\")"
   ]
  },
  {
   "cell_type": "code",
   "execution_count": null,
   "metadata": {},
   "outputs": [],
   "source": [
    "type(excess_ret)"
   ]
  },
  {
   "cell_type": "code",
   "execution_count": null,
   "metadata": {},
   "outputs": [],
   "source": []
  },
  {
   "cell_type": "code",
   "execution_count": null,
   "metadata": {},
   "outputs": [],
   "source": []
  },
  {
   "cell_type": "code",
   "execution_count": 48,
   "metadata": {},
   "outputs": [
    {
     "data": {
      "text/plain": [
       "<matplotlib.axes._subplots.AxesSubplot at 0x7f0dd652acf8>"
      ]
     },
     "execution_count": 48,
     "metadata": {},
     "output_type": "execute_result"
    },
    {
     "data": {
      "image/png": "[encoded data removed]",
      "text/plain": [
       "<Figure size 432x288 with 1 Axes>"
      ]
     },
     "metadata": {
      "needs_background": "light"
     },
     "output_type": "display_data"
    }
   ],
   "source": [
    "df['Excess Return'].hist(bins=20)"
   ]
  },
  {
   "cell_type": "code",
   "execution_count": null,
   "metadata": {},
   "outputs": [],
   "source": []
  }
 ],
 "metadata": {
  "kernelspec": {
   "display_name": "Python 3",
   "language": "python",
   "name": "python3"
  },
  "language_info": {
   "codemirror_mode": {
    "name": "ipython",
    "version": 3
   },
   "file_extension": ".py",
   "mimetype": "text/x-python",
   "name": "python",
   "nbconvert_exporter": "python",
   "pygments_lexer": "ipython3",
   "version": "3.7.3"
  }
 },
 "nbformat": 4,
 "nbformat_minor": 2
}
